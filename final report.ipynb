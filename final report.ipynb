{
    "cells": [
        {
            "cell_type": "markdown",
            "metadata": {
                "collapsed": true
            },
            "source": "# Recommender for groceries contractor"
        },
        {
            "cell_type": "markdown",
            "metadata": {},
            "source": "## Introduction"
        },
        {
            "cell_type": "markdown",
            "metadata": {},
            "source": "## 1.Problem Description"
        },
        {
            "cell_type": "markdown",
            "metadata": {},
            "source": "There is a groceries contractor in one of the boroughs of Toronto (Scarborough). This contractor provides places such as: Different types of Restaurants, Bakery, Breakfast Spot, Brewery and Caf\u00e9 with fresh and high-quality groceries. The contractor wants to build a warehouse for the groceries it buys from villagers and farmers inside the borough, so that they will support more customers and also bring better \"Quality of Service\" to the old customers.\n\nFor example, if the warehouse is close to those old and famous restaurants, then the vegetables and other groceries would be delivered to the restaurant in the right time and there would be no delay so the restaurant cooks can start their job from the morning and the Quality of Service will be high and this contractor will gain more reputation and income.\n\nThe contractor should build this warehouse where it is closest to its customers in order to minimize the cost of transpotation in addition to the example above. which neighborhood (in that borough) would be a better choice for the contractor to build the warehouse in that neighborhood. Finding the right neighborhood is our mission and our recommender system will provide this contractor with a sorted list of neighborhoods in which the first elemnt of the list will be the best suggested neighborhood.\n\nFor any grocery contracter quality, time of delivery, and availability of products plays a major role in achieving success of the business.\n\n### Target audience:\nGrocery suppliers would mainly be the target audience and users of the system.This is beacuse their work becomes easy by identifying the requirements of their customers, quantity need, type of products needed, location of their customers in an very easy manner.\n#### Advantages:\nwork of the grocery supplier becomes easy, which may inturn increase their amount of supply of variety of goods and increase their income and productivity."
        },
        {
            "cell_type": "markdown",
            "metadata": {},
            "source": "# 2.Data we need"
        },
        {
            "cell_type": "markdown",
            "metadata": {},
            "source": "1- We will need geo-locational information about that specific borough and the neighborhoods in that borough. We specifically and technically mean the latitude and longitude numbers of that borough. We assume that it is \"Scarborough\" in Toronto. This is easily provided for us by the contractor, because the contractor has already made up his mind about the borough. The Postal Codes that fall into that borough (Scarborough) would also be sufficient fo us. I fact we will first find neighborhoods inside Scarborough by their corresponding Postal Codes.\n   This can be achieved by using foursquare api, google api etc..In my project I am implenting the usage of Foursquare API.\n   Foursquare API Puts the most trusted, independent location data and technology platform to work for your business.\n#### For Marketers:  \n             turns your marketing into real world visits.\n#### For developers:\n             gives your software a better sense of place \n#### For Explorers: \n             gives the best places to eat, drink, see etc\n\n2- We will need data about different venues in different neighborhoods of that specific borough. In order to gain that information we will use \"Foursquare\" locational information. By locational information for each venue we mean basic and advanced information about that venue. For example there is a venue in one of the neighborhoods. As basic information, we can obtain its precise latitude and longitude and also its distance from the center of the neighborhood. But we are looking for advanced information such as the category of that venue and whether this venue is a popular one in its category or maybe the average price of the services of this venue. \nA typical request from Foursquare will provide us with the following information:\n1.Postal Code  \n2.Neighborhood(s)    \n3.Neighborhood Latitude  \n4.Neighborhood Longitude   \n5.Venue  \n6.Venue Summary  \n7.Venue Category  \n8.Distance (meter)  \n\n"
        },
        {
            "cell_type": "markdown",
            "metadata": {},
            "source": "## Methodology and process"
        },
        {
            "cell_type": "markdown",
            "metadata": {},
            "source": "#### Part 1: Identifying Neighborhoods inside \"Scarborough\"\nWe will use Postal Codes of different regions inside Scarborough to find the list of neighborhoods. We will essentially obtain our information from https://en.wikipedia.org/wiki/List_of_postal_codes_of_Canada:_M and then process the table inside this site. Images from dataframes and also from maps will be provided in the presentation. Here we only present our strategy and how we got the mission accomplished.\n\n#### Part 2: Connecting to Foursquare and Retrieving Locational Data\nfor Each Venue in Every Neighborhood\nAfter finding the list of neighborhoods, we then connect to the Foursquare API to gather information about venues inside each and every neighborhood. For each neighborhood, we have chosen the radius to be 1000 meter. It means that we have asked Foursquare to find venues that are at most 1000 meter far from the center of the neighborhood. (I think distance is measured by latitude and longitude of venues and neighborhoods, and it is not the walking distance for venues.)\n\n#### Part 3: Processing the Retrieved Data and Creating a DataFrome for All the Venues inside the Scarborough\nWhen the data is completely gathered, we will perform processing on that raw data to find our desirable features for each venue. Our main feature is the category of that venue. After this stage, the column \"Venue's Category\" wil be One-hot encoded and different venues will have different feature-columns. After On-hot encoding we will integrate all restaurant columns to one column \"Total Restaurants\" and all food joint columns to \"Total Joints\" column. We assumed that different resaturants use the Same raw groceries. This assumption is made for simplicity and due to not having a very detailed dataset about different venues.\nNow, the dataset is fully ready to be used for machine learning (and statistical analysis) purposes.\n\n### usage of k-means algorithm\nk-means clustering is a method of vector quantization, originally from signal processing, that aims to partition n observations into k clusters in which each observation belongs to the cluster with the nearest mean (cluster centers or cluster centroid), serving as a prototype of the cluster. This results in a partitioning of the data space into Voronoi cells. It is popular for cluster analysis in data mining. k-means clustering minimizes within-cluster variances (squared Euclidean distances), but not regular Euclidean distances, which would be the more difficult Weber problem: the mean optimizes squared errors, whereas only the geometric median minimizes Euclidean distances. For instance, better Euclidean solutions can be found using k-medians and k-medoids.\n\nHere we cluster neighborhoods via K-means clustering method. We think that 5 clusters is enough and can cover the complexity of our problem. After clustering we will update our dataset and create a column representing the group for each neighborhood\n\n"
        },
        {
            "cell_type": "markdown",
            "metadata": {},
            "source": "# Decision making\nNow, we focus on the centers of clusters and compare them for their \"Total Restaurants\" and their \"Total Joints\". The group which its center has the highest \"Total Sum\" will be our best recommendation to the contractor. {Note: Total Sum = Total Restaurants + Total Joints + Other Venues.} This algorithm although is pretty straightforward yet is strongly powerful."
        },
        {
            "cell_type": "markdown",
            "metadata": {},
            "source": "# Results\n#### Based on this analysis, the best recommended neighborhood will be:\n#### {'Neighborhood': 'Agincourt',\n#### 'Postal Code': 'M1S',\n#### 'Neighborhood Latitude': 43.7942003,\n#### 'Neighborhood Longitude': -79.26202940000002}\n\n#### The best cluster would be cluster 1 follwed by cluster 2"
        },
        {
            "cell_type": "markdown",
            "metadata": {},
            "source": "# Conclusion\nwith the usage of system in a proper manner, grocery suppliers can earn a lot by increasing their productivity, expanding their business, overriding hard work by smart work"
        },
        {
            "cell_type": "code",
            "execution_count": null,
            "metadata": {},
            "outputs": [],
            "source": ""
        }
    ],
    "metadata": {
        "kernelspec": {
            "display_name": "Python 3.6",
            "language": "python",
            "name": "python3"
        },
        "language_info": {
            "codemirror_mode": {
                "name": "ipython",
                "version": 3
            },
            "file_extension": ".py",
            "mimetype": "text/x-python",
            "name": "python",
            "nbconvert_exporter": "python",
            "pygments_lexer": "ipython3",
            "version": "3.6.9"
        }
    },
    "nbformat": 4,
    "nbformat_minor": 1
}